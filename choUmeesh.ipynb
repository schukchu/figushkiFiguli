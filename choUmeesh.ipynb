{
 "cells": [
  {
   "cell_type": "code",
   "execution_count": 1,
   "metadata": {},
   "outputs": [
    {
     "name": "stdout",
     "output_type": "stream",
     "text": [
      "Забиваем оперативу\n",
      "Забиваем оперативу\n"
     ]
    },
    {
     "ename": "TypeError",
     "evalue": "unhashable type: 'slice'",
     "output_type": "error",
     "traceback": [
      "\u001b[1;31m---------------------------------------------------------------------------\u001b[0m",
      "\u001b[1;31mTypeError\u001b[0m                                 Traceback (most recent call last)",
      "\u001b[1;32m~\\AppData\\Local\\Temp\\ipykernel_7892\\4185156662.py\u001b[0m in \u001b[0;36m<module>\u001b[1;34m\u001b[0m\n\u001b[0;32m     21\u001b[0m         \u001b[1;32mbreak\u001b[0m\u001b[1;33m\u001b[0m\u001b[1;33m\u001b[0m\u001b[0m\n\u001b[0;32m     22\u001b[0m \u001b[1;33m\u001b[0m\u001b[0m\n\u001b[1;32m---> 23\u001b[1;33m \u001b[0mkadabra\u001b[0m\u001b[1;33m[\u001b[0m\u001b[1;36m3\u001b[0m\u001b[1;33m:\u001b[0m\u001b[1;36m75\u001b[0m\u001b[1;33m]\u001b[0m\u001b[1;33m.\u001b[0m\u001b[0mappend\u001b[0m\u001b[1;33m\u001b[0m\u001b[1;33m\u001b[0m\u001b[0m\n\u001b[0m\u001b[0;32m     24\u001b[0m \u001b[1;33m\u001b[0m\u001b[0m\n\u001b[0;32m     25\u001b[0m \u001b[1;33m\u001b[0m\u001b[0m\n",
      "\u001b[1;31mTypeError\u001b[0m: unhashable type: 'slice'"
     ]
    }
   ],
   "source": [
    "a = 2\n",
    "snu = 0\n",
    "hnu = 0\n",
    "int(3.14)\n",
    "# меняется\n",
    "abra = [31, 23, 41, 24, 1]\n",
    "# меняется словарь\n",
    "kadabra = {2:\"заберите ваш приз\", 7:25}\n",
    "# не меняется\n",
    "bababra = {3, 4, 5}\n",
    "\n",
    "for i in range(len(abra)):\n",
    "    if i >= 0:\n",
    "        snu += 2\n",
    "\n",
    "while True:\n",
    "    hnu += 1\n",
    "    abra[hnu] = \"Привет\"\n",
    "    print(\"Забиваем оперативу\")\n",
    "    if hnu == a:\n",
    "        break\n",
    "\n",
    "kadabra.append(3,75)\n",
    "\n",
    "fu\n",
    "while True:\n",
    "    shoNapisano = input()\n",
    "    shoNapisano.trim().toLowerCase()\n",
    "    if shoNapisano == \"\":\n",
    "        print(\"Попробуй ещё раз\")\n",
    "    elif shoNapisano == \"2 + 2 = 5\":\n",
    "        haveYouWon = True\n",
    "        break\n",
    "\n",
    "if haveYouWon == True:\n",
    "    print(kadabra[2])"
   ]
  }
 ],
 "metadata": {
  "kernelspec": {
   "display_name": "Python 3.7.4 64-bit",
   "language": "python",
   "name": "python3"
  },
  "language_info": {
   "codemirror_mode": {
    "name": "ipython",
    "version": 3
   },
   "file_extension": ".py",
   "mimetype": "text/x-python",
   "name": "python",
   "nbconvert_exporter": "python",
   "pygments_lexer": "ipython3",
   "version": "3.7.4"
  },
  "orig_nbformat": 4,
  "vscode": {
   "interpreter": {
    "hash": "b426e24ad6aa5a08e11f54094e52324877fc19775875eec67c46f5d8ac44eede"
   }
  }
 },
 "nbformat": 4,
 "nbformat_minor": 2
}
